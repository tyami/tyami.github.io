{
 "cells": [
  {
   "cell_type": "markdown",
   "metadata": {},
   "source": [
    "# Input"
   ]
  },
  {
   "cell_type": "code",
   "execution_count": 1,
   "metadata": {},
   "outputs": [],
   "source": [
    "category = \"MEDIA\""
   ]
  },
  {
   "cell_type": "code",
   "execution_count": 2,
   "metadata": {},
   "outputs": [],
   "source": [
    "folder_name = \"2020-10-29-medical-image-classification-6-evaluation-metrics\""
   ]
  },
  {
   "cell_type": "code",
   "execution_count": 3,
   "metadata": {},
   "outputs": [],
   "source": [
    "title = \"제목\""
   ]
  },
  {
   "cell_type": "code",
   "execution_count": 4,
   "metadata": {},
   "outputs": [],
   "source": [
    "excerpt = \"부제\""
   ]
  },
  {
   "cell_type": "code",
   "execution_count": 5,
   "metadata": {},
   "outputs": [],
   "source": [
    "tags = [\"tag1\",\n",
    "        \"tag2\"]"
   ]
  },
  {
   "cell_type": "code",
   "execution_count": 6,
   "metadata": {},
   "outputs": [],
   "source": [
    "toc_label = \"\""
   ]
  },
  {
   "cell_type": "code",
   "execution_count": 7,
   "metadata": {},
   "outputs": [],
   "source": [
    "pre_post = \"2020-10-28-MEDIA-7-classification-for-medical-image-5-small-dataset\""
   ]
  },
  {
   "cell_type": "markdown",
   "metadata": {},
   "source": [
    "# Preparation"
   ]
  },
  {
   "cell_type": "code",
   "execution_count": 8,
   "metadata": {},
   "outputs": [],
   "source": [
    "if category == \"DS\":\n",
    "    category_full_name = \"Data science\"\n",
    "    pre_post_category = \"Data%20science\"\n",
    "elif category == \"DL\":\n",
    "    category_full_name = \"Deep learninig\"\n",
    "    pre_post_category = \"Deep%20learninig\"\n",
    "elif category == \"ML\":\n",
    "    category_full_name = \"Machine learninig\"\n",
    "    pre_post_category = \"Machine%20learninig\"\n",
    "elif category == \"MEDIA\":\n",
    "    category_full_name = \"Medical image analysis\"\n",
    "    pre_post_category = \"Medical%20image%20analysis\""
   ]
  },
  {
   "cell_type": "code",
   "execution_count": 9,
   "metadata": {},
   "outputs": [],
   "source": [
    "img_dir = \"../assets/images/post\"\n",
    "post_dir = \"../_posts\""
   ]
  },
  {
   "cell_type": "markdown",
   "metadata": {},
   "source": [
    "# YAML"
   ]
  },
  {
   "cell_type": "code",
   "execution_count": 10,
   "metadata": {},
   "outputs": [],
   "source": [
    "data = \"---\\n\"\n",
    "data+= \"title: \\\"\" + title + \"\\\"\\n\"\n",
    "data+= \"excerpt: \\\"\" + excerpt + \"\\\"\\n\"\n",
    "data+= \"\\n\"\n",
    "\n",
    "data+= \"categories:\\n\"\n",
    "data+= \"- \" + category_full_name + \"\\n\"\n",
    "data+= \"\\n\"\n",
    "\n",
    "data+= \"tags:\\n\"\n",
    "for tag in tags:\n",
    "    data+= \"- \" + tag + \"\\n\"\n",
    "data+= \"\\n\"\n",
    "\n",
    "data+= \"toc: true\\n\"\n",
    "data+= \"toc_sticky: true\\n\"\n",
    "data+= \"toc_label: \" + toc_label + \"\\n\"\n",
    "data+= \"\\n\"\n",
    "\n",
    "data+= \"use_math: true\\n\"\n",
    "data+= \"---\"\n",
    "data+= \"\\n\\n\""
   ]
  },
  {
   "cell_type": "markdown",
   "metadata": {},
   "source": [
    "# 이전 포스트"
   ]
  },
  {
   "cell_type": "code",
   "execution_count": 11,
   "metadata": {},
   "outputs": [
    {
     "data": {
      "text/plain": [
       "'D:/jupyter notebook/github/tyami.github.io/_posts/2020-10-28-MEDIA-7-classification-for-medical-image-5-small-dataset.md'"
      ]
     },
     "execution_count": 11,
     "metadata": {},
     "output_type": "execute_result"
    }
   ],
   "source": [
    "post_dir + \"/\" + pre_post + \".md\""
   ]
  },
  {
   "cell_type": "code",
   "execution_count": 12,
   "metadata": {},
   "outputs": [],
   "source": [
    "f = open(post_dir + \"/\" + pre_post + \".md\", \"r\", encoding='UTF-8')\n",
    "f.readline()\n",
    "pre_post_title = f.readline()\n",
    "for i in range(21):\n",
    "    f.readline()\n",
    "pre_post_content = f.readline()\n",
    "f.close()\n",
    "\n",
    "pre_post_title = pre_post_title[8:-2]\n",
    "pre_post_content = \"이전\" + pre_post_content[4:-10]"
   ]
  },
  {
   "cell_type": "code",
   "execution_count": 13,
   "metadata": {},
   "outputs": [
    {
     "data": {
      "text/plain": [
       "'이전스팅에서는 Medical image dataset의 특징인 적은 샘플 수를 극복하기 위한 '"
      ]
     },
     "execution_count": 13,
     "metadata": {},
     "output_type": "execute_result"
    }
   ],
   "source": [
    "\"이전\" + pre_post_content[4:-10]"
   ]
  },
  {
   "cell_type": "code",
   "execution_count": 14,
   "metadata": {},
   "outputs": [],
   "source": [
    "data+= \"이전 포스팅: [\" + pre_post_title + \"]({{ site.url }}{{ site.baseurl }}/\" + pre_post_category + \"/\" + pre_post[11:] + \"/)\" + \"\\n\"\n",
    "data+= \"\\n\"\n",
    "\n",
    "data+= \"> \" + pre_post_content + \"  \\n\"\n",
    "data+= \"> 이번 포스팅에서는 ** 내용 **을 정리해보고자 합니다.\\n\"\n",
    "data+= \"\\n\\n---\\n\\n\"\n"
   ]
  },
  {
   "cell_type": "markdown",
   "metadata": {},
   "source": [
    "# Images"
   ]
  },
  {
   "cell_type": "code",
   "execution_count": 15,
   "metadata": {},
   "outputs": [],
   "source": [
    "import os\n",
    "\n",
    "img_names = os.listdir(img_dir + \"/\" + category + \"/\" + folder_name)"
   ]
  },
  {
   "cell_type": "code",
   "execution_count": 16,
   "metadata": {},
   "outputs": [],
   "source": [
    "for img_name in img_names:\n",
    "    data+= \"![\" + img_name + \"]({{ site.url }}{{ site.baseurl }})/assets/images/post/\" + category + \"/\" + folder_name + \"/\" + img_name + \")\\n\\n\""
   ]
  },
  {
   "cell_type": "markdown",
   "metadata": {},
   "source": [
    "# 끝"
   ]
  },
  {
   "cell_type": "code",
   "execution_count": 17,
   "metadata": {},
   "outputs": [],
   "source": [
    "data+= \"---\\n\\n\"\n",
    "\n",
    "data+= \"> 다음 포스팅에서는 ** 내용 **을 정리해보고자 합니다\\n\\n\"\n",
    "\n",
    "data+= \"다음 포스팅: [ 작성중 ]({{ site.url }}{{ site.baseurl }}/_posts/ 작성중 /)\""
   ]
  },
  {
   "cell_type": "code",
   "execution_count": 18,
   "metadata": {
    "scrolled": true
   },
   "outputs": [
    {
     "name": "stdout",
     "output_type": "stream",
     "text": [
      "---\n",
      "title: \"제목\"\n",
      "excerpt: \"부제\"\n",
      "\n",
      "categories:\n",
      "- Medical image analysis\n",
      "\n",
      "tags:\n",
      "- tag1\n",
      "- tag2\n",
      "\n",
      "toc: true\n",
      "toc_sticky: true\n",
      "toc_label: \n",
      "\n",
      "use_math: true\n",
      "---\n",
      "\n",
      "이전 포스팅: [Medical Image Analysis 7: Classification for MEDIA (5) Overcome small dataset]({{ site.url }}{{ site.baseurl }}/Medical%20image%20analysis/MEDIA-7-classification-for-medical-image-5-small-dataset/)\n",
      "\n",
      "> 이전 포스팅에서는 Medical image dataset의 특징인 적은 샘플 수를 극복하기 위한 여러 방법들을 정리  \n",
      "> 이번 포스팅에서는 ** 내용 **을 정리해보고자 합니다.\n",
      "\n",
      "\n",
      "---\n",
      "\n",
      "![2020-10-29-medical-image-classification-6-evaluation-metrics-1-ideal-case.png]({{ site.url }}{{ site.baseurl }})/assets/images/post/MEDIA/2020-10-29-medical-image-classification-6-evaluation-metrics/2020-10-29-medical-image-classification-6-evaluation-metrics-1-ideal-case.png)\n",
      "\n",
      "![2020-10-29-medical-image-classification-6-evaluation-metrics-10-f1-score-for-multi-label.png]({{ site.url }}{{ site.baseurl }})/assets/images/post/MEDIA/2020-10-29-medical-image-classification-6-evaluation-metrics/2020-10-29-medical-image-classification-6-evaluation-metrics-10-f1-score-for-multi-label.png)\n",
      "\n",
      "![2020-10-29-medical-image-classification-6-evaluation-metrics-2-real-case.png]({{ site.url }}{{ site.baseurl }})/assets/images/post/MEDIA/2020-10-29-medical-image-classification-6-evaluation-metrics/2020-10-29-medical-image-classification-6-evaluation-metrics-2-real-case.png)\n",
      "\n",
      "![2020-10-29-medical-image-classification-6-evaluation-metrics-3-accuracy.png]({{ site.url }}{{ site.baseurl }})/assets/images/post/MEDIA/2020-10-29-medical-image-classification-6-evaluation-metrics/2020-10-29-medical-image-classification-6-evaluation-metrics-3-accuracy.png)\n",
      "\n",
      "![2020-10-29-medical-image-classification-6-evaluation-metrics-4-problem-of-accuracy.png]({{ site.url }}{{ site.baseurl }})/assets/images/post/MEDIA/2020-10-29-medical-image-classification-6-evaluation-metrics/2020-10-29-medical-image-classification-6-evaluation-metrics-4-problem-of-accuracy.png)\n",
      "\n",
      "![2020-10-29-medical-image-classification-6-evaluation-metrics-5-sensitivitiy-specificity-precision.png]({{ site.url }}{{ site.baseurl }})/assets/images/post/MEDIA/2020-10-29-medical-image-classification-6-evaluation-metrics/2020-10-29-medical-image-classification-6-evaluation-metrics-5-sensitivitiy-specificity-precision.png)\n",
      "\n",
      "![2020-10-29-medical-image-classification-6-evaluation-metrics-6-roc-curve.png]({{ site.url }}{{ site.baseurl }})/assets/images/post/MEDIA/2020-10-29-medical-image-classification-6-evaluation-metrics/2020-10-29-medical-image-classification-6-evaluation-metrics-6-roc-curve.png)\n",
      "\n",
      "![2020-10-29-medical-image-classification-6-evaluation-metrics-7-f1-score.png]({{ site.url }}{{ site.baseurl }})/assets/images/post/MEDIA/2020-10-29-medical-image-classification-6-evaluation-metrics/2020-10-29-medical-image-classification-6-evaluation-metrics-7-f1-score.png)\n",
      "\n",
      "![2020-10-29-medical-image-classification-6-evaluation-metrics-8-confuision-matrix.png]({{ site.url }}{{ site.baseurl }})/assets/images/post/MEDIA/2020-10-29-medical-image-classification-6-evaluation-metrics/2020-10-29-medical-image-classification-6-evaluation-metrics-8-confuision-matrix.png)\n",
      "\n",
      "![2020-10-29-medical-image-classification-6-evaluation-metrics-9-f1-score-for-multi-label.png]({{ site.url }}{{ site.baseurl }})/assets/images/post/MEDIA/2020-10-29-medical-image-classification-6-evaluation-metrics/2020-10-29-medical-image-classification-6-evaluation-metrics-9-f1-score-for-multi-label.png)\n",
      "\n",
      "---\n",
      "\n",
      "> 다음 포스팅에서는 ** 내용 **을 정리해보고자 합니다\n",
      "\n",
      "다음 포스팅: [ 작성중 ]({{ site.url }}{{ site.baseurl }}/_posts/ 작성중 /\n"
     ]
    }
   ],
   "source": [
    "print(data)"
   ]
  },
  {
   "cell_type": "markdown",
   "metadata": {},
   "source": [
    "# md 파일 작성"
   ]
  },
  {
   "cell_type": "code",
   "execution_count": 20,
   "metadata": {},
   "outputs": [
    {
     "data": {
      "text/plain": [
       "'D:/jupyter notebook/github/tyami.github.io/assets/images/post/MEDIA/2020-10-29-medical-image-classification-6-evaluation-metrics/2020-10-29-medical-image-classification-6-evaluation-metrics.md'"
      ]
     },
     "execution_count": 20,
     "metadata": {},
     "output_type": "execute_result"
    }
   ],
   "source": [
    "img_dir + \"/\" + category + \"/\" + folder_name + \"/\" + folder_name + \".md\""
   ]
  },
  {
   "cell_type": "code",
   "execution_count": 22,
   "metadata": {},
   "outputs": [],
   "source": [
    "f = open(img_dir + \"/\" + category + \"/\" + folder_name + \"/\" + folder_name + \".md\", \"w\", encoding='UTF-8')\n",
    "f.write(data)\n",
    "f.close()"
   ]
  },
  {
   "cell_type": "code",
   "execution_count": null,
   "metadata": {},
   "outputs": [],
   "source": []
  }
 ],
 "metadata": {
  "kernelspec": {
   "display_name": "torch35",
   "language": "python",
   "name": "torch35"
  },
  "language_info": {
   "codemirror_mode": {
    "name": "ipython",
    "version": 3
   },
   "file_extension": ".py",
   "mimetype": "text/x-python",
   "name": "python",
   "nbconvert_exporter": "python",
   "pygments_lexer": "ipython3",
   "version": "3.5.6"
  }
 },
 "nbformat": 4,
 "nbformat_minor": 2
}
