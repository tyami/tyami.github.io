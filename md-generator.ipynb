{
 "cells": [
  {
   "cell_type": "markdown",
   "metadata": {},
   "source": [
    "# Input"
   ]
  },
  {
   "cell_type": "code",
   "execution_count": 1,
   "metadata": {},
   "outputs": [],
   "source": [
    "category = \"ML\""
   ]
  },
  {
   "cell_type": "code",
   "execution_count": 2,
   "metadata": {},
   "outputs": [],
   "source": [
    "folder_name = \"2020-10-31-k-means-clustering\""
   ]
  },
  {
   "cell_type": "code",
   "execution_count": 3,
   "metadata": {},
   "outputs": [],
   "source": [
    "title = \" 제목 \""
   ]
  },
  {
   "cell_type": "code",
   "execution_count": 4,
   "metadata": {},
   "outputs": [],
   "source": [
    "excerpt = \" 부제 \""
   ]
  },
  {
   "cell_type": "code",
   "execution_count": 5,
   "metadata": {},
   "outputs": [],
   "source": [
    "toc_label = \" toclabel \""
   ]
  },
  {
   "cell_type": "code",
   "execution_count": 6,
   "metadata": {},
   "outputs": [],
   "source": [
    "pre_post = \"2020-10-30-clustering\""
   ]
  },
  {
   "cell_type": "markdown",
   "metadata": {},
   "source": [
    "# Preparation"
   ]
  },
  {
   "cell_type": "code",
   "execution_count": 7,
   "metadata": {},
   "outputs": [],
   "source": [
    "if category == \"DS\":\n",
    "    category_full_name = \"Data science\"\n",
    "    pre_post_category = \"Data%20science\"\n",
    "    tags = [\"Data science\"]\n",
    "elif category == \"DL\":\n",
    "    category_full_name = \"Deep learninig\"\n",
    "    pre_post_category = \"Deep%20learninig\"\n",
    "    tags = [\"Deep learninig\"]\n",
    "elif category == \"ML\":\n",
    "    category_full_name = \"Machine learninig\"\n",
    "    pre_post_category = \"Machine%20learninig\"\n",
    "    tags = [\"Machine learninig\"]\n",
    "elif category == \"MEDIA\":\n",
    "    category_full_name = \"Medical image analysis\"\n",
    "    pre_post_category = \"Medical%20image%20analysis\"\n",
    "    tags = [\"Medical image analysis\", \"Lecture\"]"
   ]
  },
  {
   "cell_type": "code",
   "execution_count": 8,
   "metadata": {},
   "outputs": [],
   "source": [
    "img_dir = \"./assets/images/post\"\n",
    "post_dir = \"./_posts\"\n",
    "draft_dir = \"./_drafts\""
   ]
  },
  {
   "cell_type": "markdown",
   "metadata": {},
   "source": [
    "# YAML"
   ]
  },
  {
   "cell_type": "code",
   "execution_count": 9,
   "metadata": {},
   "outputs": [],
   "source": [
    "data = \"---\\n\"\n",
    "data+= \"title: \\\"\" + title + \"\\\"\\n\"\n",
    "data+= \"excerpt: \\\"\" + excerpt + \"\\\"\\n\"\n",
    "data+= \"\\n\"\n",
    "\n",
    "data+= \"categories:\\n\"\n",
    "data+= \"- \" + category_full_name + \"\\n\"\n",
    "data+= \"\\n\"\n",
    "\n",
    "data+= \"tags:\\n\"\n",
    "for tag in tags:\n",
    "    data+= \"- \" + tag + \"\\n\"\n",
    "data+= \"\\n\"\n",
    "\n",
    "data+= \"toc: true\\n\"\n",
    "data+= \"toc_sticky: true\\n\"\n",
    "data+= \"toc_label: \\\" \" + toc_label + \" \\\"\\n\"\n",
    "data+= \"\\n\"\n",
    "\n",
    "data+= \"use_math: true\\n\"\n",
    "data+= \"---\"\n",
    "data+= \"\\n\\n\""
   ]
  },
  {
   "cell_type": "markdown",
   "metadata": {},
   "source": [
    "# 이전 포스트"
   ]
  },
  {
   "cell_type": "code",
   "execution_count": 10,
   "metadata": {},
   "outputs": [],
   "source": [
    "if pre_post != \"\":\n",
    "    f = open(post_dir + \"/\" + pre_post + \".md\", \"r\", encoding='UTF-8')\n",
    "    f.readline()\n",
    "    pre_post_title = f.readline()\n",
    "\n",
    "    while(1):\n",
    "        line = f.readline()\n",
    "        if line == \"---\\n\":\n",
    "            break\n",
    "\n",
    "    f.readline() # \\n\n",
    "    f.readline() # 이전 포스팅\n",
    "    f.readline() # \\n\n",
    "    f.readline() # > 이전 포스팅에서는\n",
    "    pre_post_content = f.readline()\n",
    "    f.close()\n",
    "\n",
    "    pre_post_title = pre_post_title[8:-2]\n",
    "    pre_post_content = \"> 이전\" + pre_post_content[4:-10] + \"했습니다\\n\"\n",
    "    \n",
    "    data+= \"이전 포스팅: [\" + pre_post_title + \"]({{ site.url }}{{ site.baseurl }}/\" + pre_post_category + \"/\" + pre_post[11:] + \"/)\" + \"\\n\"\n",
    "    data+= \"\\n\"\n",
    "\n",
    "    data+= pre_post_content"
   ]
  },
  {
   "cell_type": "code",
   "execution_count": 11,
   "metadata": {},
   "outputs": [],
   "source": [
    "data+= \"> 이번 포스팅에서는 ** 내용 **을 정리해보고자 합니다.\\n\"\n",
    "data+= \"\\n\\n---\\n\\n\""
   ]
  },
  {
   "cell_type": "markdown",
   "metadata": {},
   "source": [
    "# Images"
   ]
  },
  {
   "cell_type": "code",
   "execution_count": 12,
   "metadata": {},
   "outputs": [],
   "source": [
    "import glob\n",
    "import os\n",
    "\n",
    "path = img_dir + \"/\" + category + \"/\" + folder_name + \"/\"\n",
    "valid_img = [\".jpg\", \".gif\", \".png\"]\n",
    "img_names = glob.glob(path + \"*.png\")\n",
    "img_names = [os.path.basename(full_path) for full_path in img_names]"
   ]
  },
  {
   "cell_type": "code",
   "execution_count": 13,
   "metadata": {},
   "outputs": [
    {
     "data": {
      "text/plain": [
       "['2020-10-31-k-means-clustering-1-intro.png',\n",
       " '2020-10-31-k-means-clustering-2-steps.png',\n",
       " '2020-10-31-k-means-clustering-3-k.png',\n",
       " '2020-10-31-k-means-clustering-4-cons-1-initial-value.png',\n",
       " '2020-10-31-k-means-clustering-5-cons-2-size-of-cluster.png',\n",
       " '2020-10-31-k-means-clustering-6-cons-3-density-of-cluster.png',\n",
       " '2020-10-31-k-means-clustering-7-cons-4-shape-of-cluster.png']"
      ]
     },
     "execution_count": 13,
     "metadata": {},
     "output_type": "execute_result"
    }
   ],
   "source": [
    "img_names"
   ]
  },
  {
   "cell_type": "code",
   "execution_count": 14,
   "metadata": {},
   "outputs": [],
   "source": [
    "for img_name in img_names:\n",
    "    data+= \"![\" + img_name + \"]({{ site.url }}{{ site.baseurl }}/assets/images/post/\" + category + \"/\" + folder_name + \"/\" + img_name + \")\\n\\n\""
   ]
  },
  {
   "cell_type": "markdown",
   "metadata": {},
   "source": [
    "# 끝"
   ]
  },
  {
   "cell_type": "code",
   "execution_count": 15,
   "metadata": {},
   "outputs": [],
   "source": [
    "data+= \"---\\n\\n\"\n",
    "\n",
    "data+= \"> 다음 포스팅에서는 ** 내용 **을 정리해보고자 합니다\\n\\n\"\n",
    "\n",
    "data+= \"다음 포스팅: [ 작성중 ]({{ site.url }}{{ site.baseurl }}/\" + pre_post_category + \"/ 작성중 /)\""
   ]
  },
  {
   "cell_type": "code",
   "execution_count": 16,
   "metadata": {
    "scrolled": true
   },
   "outputs": [
    {
     "name": "stdout",
     "output_type": "stream",
     "text": [
      "---\n",
      "title: \" 제목 \"\n",
      "excerpt: \" 부제 \"\n",
      "\n",
      "categories:\n",
      "- Machine learninig\n",
      "\n",
      "tags:\n",
      "- Machine learninig\n",
      "\n",
      "toc: true\n",
      "toc_sticky: true\n",
      "toc_label: \"  toclabel  \"\n",
      "\n",
      "use_math: true\n",
      "---\n",
      "\n",
      "이전 포스팅: [Clustering (군집화)]({{ site.url }}{{ site.baseurl }}/Machine%20learninig/clustering/)\n",
      "\n",
      "> 이전했습니다\n",
      "> 이번 포스팅에서는 ** 내용 **을 정리해보고자 합니다.\n",
      "\n",
      "\n",
      "---\n",
      "\n",
      "![2020-10-31-k-means-clustering-1-intro.png]({{ site.url }}{{ site.baseurl }}/assets/images/post/ML/2020-10-31-k-means-clustering/2020-10-31-k-means-clustering-1-intro.png)\n",
      "\n",
      "![2020-10-31-k-means-clustering-2-steps.png]({{ site.url }}{{ site.baseurl }}/assets/images/post/ML/2020-10-31-k-means-clustering/2020-10-31-k-means-clustering-2-steps.png)\n",
      "\n",
      "![2020-10-31-k-means-clustering-3-k.png]({{ site.url }}{{ site.baseurl }}/assets/images/post/ML/2020-10-31-k-means-clustering/2020-10-31-k-means-clustering-3-k.png)\n",
      "\n",
      "![2020-10-31-k-means-clustering-4-cons-1-initial-value.png]({{ site.url }}{{ site.baseurl }}/assets/images/post/ML/2020-10-31-k-means-clustering/2020-10-31-k-means-clustering-4-cons-1-initial-value.png)\n",
      "\n",
      "![2020-10-31-k-means-clustering-5-cons-2-size-of-cluster.png]({{ site.url }}{{ site.baseurl }}/assets/images/post/ML/2020-10-31-k-means-clustering/2020-10-31-k-means-clustering-5-cons-2-size-of-cluster.png)\n",
      "\n",
      "![2020-10-31-k-means-clustering-6-cons-3-density-of-cluster.png]({{ site.url }}{{ site.baseurl }}/assets/images/post/ML/2020-10-31-k-means-clustering/2020-10-31-k-means-clustering-6-cons-3-density-of-cluster.png)\n",
      "\n",
      "![2020-10-31-k-means-clustering-7-cons-4-shape-of-cluster.png]({{ site.url }}{{ site.baseurl }}/assets/images/post/ML/2020-10-31-k-means-clustering/2020-10-31-k-means-clustering-7-cons-4-shape-of-cluster.png)\n",
      "\n",
      "---\n",
      "\n",
      "> 다음 포스팅에서는 ** 내용 **을 정리해보고자 합니다\n",
      "\n",
      "다음 포스팅: [ 작성중 ]({{ site.url }}{{ site.baseurl }}/Machine%20learninig/ 작성중 /)\n"
     ]
    }
   ],
   "source": [
    "print(data)"
   ]
  },
  {
   "cell_type": "markdown",
   "metadata": {},
   "source": [
    "# md 파일 작성"
   ]
  },
  {
   "cell_type": "code",
   "execution_count": 17,
   "metadata": {},
   "outputs": [
    {
     "data": {
      "text/plain": [
       "'./assets/images/post/ML/2020-10-31-k-means-clustering/2020-10-31-k-means-clustering.md'"
      ]
     },
     "execution_count": 17,
     "metadata": {},
     "output_type": "execute_result"
    }
   ],
   "source": [
    "img_dir + \"/\" + category + \"/\" + folder_name + \"/\" + folder_name + \".md\""
   ]
  },
  {
   "cell_type": "code",
   "execution_count": 18,
   "metadata": {},
   "outputs": [],
   "source": [
    "f = open(draft_dir + \"/\" + folder_name + \".md\", \"w\", encoding='UTF-8')\n",
    "f.write(data)\n",
    "f.close()"
   ]
  }
 ],
 "metadata": {
  "kernelspec": {
   "display_name": "torch35",
   "language": "python",
   "name": "torch35"
  },
  "language_info": {
   "codemirror_mode": {
    "name": "ipython",
    "version": 3
   },
   "file_extension": ".py",
   "mimetype": "text/x-python",
   "name": "python",
   "nbconvert_exporter": "python",
   "pygments_lexer": "ipython3",
   "version": "3.5.6"
  }
 },
 "nbformat": 4,
 "nbformat_minor": 2
}
